{
 "cells": [
  {
   "cell_type": "markdown",
   "source": [
    "# Example of model usage"
   ],
   "metadata": {}
  },
  {
   "cell_type": "code",
   "execution_count": 1,
   "source": [
    "#%matplotlib\n",
    "from envs.CapsubotEnv import CapsubotEnv\n",
    "import numpy as np\n",
    "from time import time\n",
    "import matplotlib.pyplot as plt\n",
    "import scipy.constants\n",
    "\n",
    "# https://github.com/MMehrez/MPC-and-MHE-implementation-in-MATLAB-using-Casadi/blob/master/workshop_github/Python_Implementation/mpc_code.py\n",
    "\n",
    "# pip install casadi\n",
    "from casadi import *\n",
    "\n",
    "try:\n",
    "    env.close()\n",
    "except Exception:\n",
    "    pass\n",
    "\n",
    "env = CapsubotEnv(force=\"trivial\")\n"
   ],
   "outputs": [],
   "metadata": {}
  },
  {
   "cell_type": "markdown",
   "source": [
    "# Helper functions"
   ],
   "metadata": {}
  },
  {
   "cell_type": "code",
   "execution_count": null,
   "source": [
    "def shift_timestep(step_horizon, t0, state_init, u, f):\n",
    "    f_value = f(state_init, u[:, 0])\n",
    "    next_state = DM.full(state_init + (step_horizon * f_value))\n",
    "\n",
    "    t0 = t0 + step_horizon\n",
    "    u0 = horzcat(\n",
    "        u[:, 1:],\n",
    "        reshape(u[:, -1], -1, 1)\n",
    "    )\n",
    "\n",
    "    return t0, next_state, u0\n",
    "\n",
    "\n",
    "def DM2Arr(dm):\n",
    "    return np.array(dm.full())"
   ],
   "outputs": [],
   "metadata": {}
  },
  {
   "cell_type": "markdown",
   "source": [
    "# State and control variables."
   ],
   "metadata": {}
  },
  {
   "cell_type": "code",
   "execution_count": null,
   "source": [
    "# Based on the exapmle \n",
    "# https://github.com/MMehrez/MPC-and-MHE-implementation-in-MATLAB-using-Casadi/blob/master/workshop_github/Python_Implementation/mpc_code.py\n",
    "\n",
    "x = SX.sym(\"x\")\n",
    "xi = SX.sym(\"xi\")\n",
    "x_dot = SX.sym(\"x_dot\")\n",
    "xi_dot = SX.sym(\"xi_dot\")\n",
    "states = vertcat(x, x_dot, xi, xi_dot)\n",
    "n_states = states.numel()\n",
    "force = SX.sym(\"F\")\n",
    "controls = vertcat(force)\n",
    "n_controls = controls.numel()\n"
   ],
   "outputs": [],
   "metadata": {}
  },
  {
   "cell_type": "markdown",
   "source": [],
   "metadata": {}
  },
  {
   "cell_type": "markdown",
   "source": [
    "# Model"
   ],
   "metadata": {}
  },
  {
   "cell_type": "code",
   "execution_count": null,
   "source": [
    "friction = env.friction_model(x_dot)\n",
    "x_acc = (env.stiffness * xi - force + friction) / env.M\n",
    "xi_acc = (-env.stiffness * xi + force) / env.m - x_acc\n",
    "\n",
    "rhs = vertcat(x_dot, x_acc, xi_dot, xi_acc)  # System r.h.s\n",
    "\n",
    "# Nonlinear mapping function f(x,u).\n",
    "f = Function(\"f\", [states, controls], [rhs])"
   ],
   "outputs": [],
   "metadata": {}
  },
  {
   "cell_type": "markdown",
   "source": [
    "# Simulate data and calculate objective function."
   ],
   "metadata": {}
  },
  {
   "cell_type": "code",
   "execution_count": null,
   "source": [
    "# setting matrix_weights' variables\n",
    "Q_x = 100\n",
    "Q_y = 100\n",
    "Q_theta = 2000\n",
    "R1 = 1\n",
    "\n",
    "F_max = 1.25 # Need to add proper force model\n",
    "F_min = 0 \n",
    "\n",
    "x_init = 0\n",
    "x_target = 5\n",
    "\n",
    "\n",
    "step_horizon = env.dt\n",
    "# [s]\n",
    "N = int(0.1 / env.dt)  # Prediction horizon.\n",
    "\n",
    "# A vector that represents the states over the optimization problem.\n",
    "X = SX.sym(\"X\", n_states, (N + 1))\n",
    "# Decision variables (controls)\n",
    "U = SX.sym(\"U\", n_controls, N)\n",
    "# Parameters (which include the initial state and the reference state)\n",
    "P = SX.sym(\"P\", n_states + n_states)\n",
    "# state weights matrix (Q_X, Q_Y, Q_THETA)\n",
    "Q = diagcat(Q_x, Q_y, Q_theta)\n",
    "# controls weights matrix\n",
    "R = diagcat(R1)\n",
    "\n",
    "# OBJECTIVE FUNCTION PARAMETERS.\n",
    "# Weighing matrices (states).\n",
    "Q = SX(4, 4)  # FIXME USE OTHER WAY TO CREATE ZERO MATRIX\n",
    "Q[0, 0] = 1\n",
    "Q[1, 1] = 1\n",
    "Q[2, 2] = 1\n",
    "Q[3, 3] = 1\n",
    "\n",
    "# Weighing matrices (controls)\n",
    "R = SX(1, 1)\n",
    "R[0, 0] = 1\n",
    "\n",
    "\n",
    "cost_fn = 0  # cost function (objective function?)\n",
    "g = X[:, 0] - P[:n_states]  # constraints in the equation for multi shooting.\n",
    "\n",
    "print(\"prediction_horizon:\", N)\n",
    "# GENERATE STATES AND CONSTRAINTS FOR WHOLE HORIZION\n",
    "for k in range(N):\n",
    "    st = X[:, k]\n",
    "    con = U[:, k]\n",
    "    cost_fn = cost_fn + (st - P[n_states:]).T @ Q @ (st - P[n_states:]) + con.T @ R @ con\n",
    "    st_next = X[:, k + 1]\n",
    "    f_value = f(st, con)\n",
    "    st_next_euler = st + (step_horizon * f_value)\n",
    "    g = vertcat(g, st_next - st_next_euler) # Compute constraints.\n"
   ],
   "outputs": [
    {
     "output_type": "stream",
     "name": "stdout",
     "text": [
      "prediction_horizon: 4000\n"
     ]
    }
   ],
   "metadata": {}
  },
  {
   "cell_type": "markdown",
   "source": [
    "# Problem solving"
   ],
   "metadata": {}
  },
  {
   "cell_type": "code",
   "execution_count": null,
   "source": [
    "OPT_variables = vertcat(\n",
    "    X.reshape((-1, 1)), U.reshape((-1, 1))  # Example: 3x11 ---> 33x1 where 3=states, 11=N+1\n",
    ")\n",
    "nlp_prob = {\"f\": cost_fn, \"x\": OPT_variables, \"g\": g, \"p\": P}\n",
    "\n",
    "opts = {\n",
    "    \"ipopt\": {\n",
    "        \"max_iter\": 2000,\n",
    "        \"print_level\": 0,\n",
    "        \"acceptable_tol\": 1e-8,\n",
    "        \"acceptable_obj_change_tol\": 1e-6,\n",
    "    },\n",
    "    \"print_time\": 0,\n",
    "}\n",
    "\n",
    "solver = nlpsol(\"solver\", \"ipopt\", nlp_prob, opts)\n",
    "\n",
    "lbx = DM.zeros((n_states * (N + 1) + n_controls * N, 1))\n",
    "ubx = DM.zeros((n_states * (N + 1) + n_controls * N, 1))\n",
    "\n",
    "lbx[0 : n_states * (N + 1) : n_states] = -1  # X lower bound\n",
    "lbx[1 : n_states * (N + 1) : n_states] = -1  # x_dot lower bound\n",
    "lbx[2 : n_states * (N + 1) : n_states] = -0.2  # xi lower bound\n",
    "lbx[3 : n_states * (N + 1) : n_states] = -1  # xi_dot lower bound\n",
    "\n",
    "\n",
    "ubx[0 : n_states * (N + 1) : n_states] = inf  # X lower bound\n",
    "ubx[1 : n_states * (N + 1) : n_states] = 1  # x_dot lower bound\n",
    "ubx[2 : n_states * (N + 1) : n_states] = 0.2  # xi lower bound\n",
    "ubx[3 : n_states * (N + 1) : n_states] = 1  # xi_dot lower bound\n",
    "\n",
    "\n",
    "lbx[n_states * (N + 1) :] = F_min  # v lower bound for F.. NEED TO DOBUBLE CHECK THIS\n",
    "ubx[n_states * (N + 1) :] = F_max  # v upper bound for F\n",
    "\n",
    "\n",
    "args = {\n",
    "    \"lbg\": DM.zeros((n_states * (N + 1), 1)),  # constraints lower bound\n",
    "    \"ubg\": DM.zeros((n_states * (N + 1), 1)),  # constraints upper bound\n",
    "    \"lbx\": lbx,\n",
    "    \"ubx\": ubx,\n",
    "}\n"
   ],
   "outputs": [],
   "metadata": {}
  },
  {
   "cell_type": "code",
   "execution_count": null,
   "source": [
    "t0 = 0\n",
    "state_init = DM([0, 0, 0, 0])  # initial state\n",
    "state_target = DM([5, 0, 0, 0])  # target state\n",
    "\n",
    "t = DM(t0)\n",
    "\n",
    "u0 = DM.zeros((n_controls, N))  # initial control\n",
    "X0 = repmat(state_init, 1, N + 1)  # initial state full\n",
    "\n",
    "\n",
    "mpc_iter = 0\n",
    "cat_states = DM2Arr(X0)\n",
    "cat_controls = DM2Arr(u0[:, 0])\n",
    "times = np.array([[0]])\n"
   ],
   "outputs": [],
   "metadata": {}
  },
  {
   "cell_type": "code",
   "execution_count": null,
   "source": [
    "sim_time = 10\n",
    "main_loop = time()  # return time in sec\n",
    "while (norm_2(state_init - state_target) > 1e-1) and (mpc_iter * step_horizon < sim_time):\n",
    "    t1 = time()\n",
    "    args[\"p\"] = vertcat(state_init, state_target)  # current state  # target state\n",
    "    # optimization variable current state\n",
    "    args[\"x0\"] = vertcat(reshape(X0, n_states * (N + 1), 1), reshape(u0, n_controls * N, 1))\n",
    "\n",
    "    sol = solver(\n",
    "        x0=args[\"x0\"],\n",
    "        lbx=args[\"lbx\"],\n",
    "        ubx=args[\"ubx\"],\n",
    "        lbg=args[\"lbg\"],\n",
    "        ubg=args[\"ubg\"],\n",
    "        p=args[\"p\"],\n",
    "    )\n",
    "\n",
    "    u = reshape(sol[\"x\"][n_states * (N + 1) :], n_controls, N)\n",
    "    X0 = reshape(sol[\"x\"][: n_states * (N + 1)], n_states, N + 1)\n",
    "\n",
    "    cat_states = np.dstack((cat_states, DM2Arr(X0)))\n",
    "\n",
    "    cat_controls = np.vstack((cat_controls, DM2Arr(u[:, 0])))\n",
    "    t = np.vstack((t, t0))\n",
    "\n",
    "    t0, state_init, u0 = shift_timestep(step_horizon, t0, state_init, u, f)\n",
    "\n",
    "    print(X0)\n",
    "    X0 = horzcat(X0[:, 1:], reshape(X0[:, -1], -1, 1))\n",
    "\n",
    "    # xx ...\n",
    "    t2 = time()\n",
    "    if (mpc_iter * step_horizon) % 0.005 <= step_horizon:\n",
    "        print(\"iter n:\", mpc_iter)\n",
    "        print(\"iter time:\", t2 - t1)\n",
    "        print(\"simulated time:\", mpc_iter * step_horizon)\n",
    "        print(\"pose error:\", norm_2(state_init - state_target))\n",
    "        print(state_init)\n",
    "    print(\"iter n:\", mpc_iter)\n",
    "    print(\"iter time:\", t2 - t1)\n",
    "    print(\"simulated time:\", mpc_iter * step_horizon)\n",
    "    print(\"pose error:\", norm_2(state_init - state_target))\n",
    "    print(state_init)\n",
    "\n",
    "    times = np.vstack((times, t2 - t1))\n",
    "\n",
    "    mpc_iter = mpc_iter + 1\n",
    "\n",
    "main_loop_time = time()\n",
    "ss_error = ca.norm_2(state_init - state_target)\n",
    "\n",
    "print(\"\\n\\n\")\n",
    "print(\"Total time: \", main_loop_time - main_loop)\n",
    "print(\"avg iteration time: \", np.array(times).mean() * 1000, \"ms\")\n",
    "print(\"final error: \", ss_error)\n",
    "\n"
   ],
   "outputs": [],
   "metadata": {}
  },
  {
   "cell_type": "code",
   "execution_count": null,
   "source": [
    "states = np.array(states)\n",
    "\n",
    "fig, axs = plt.subplots(2, 2, sharex=True)  # , sharex=True, sharey=True)\n",
    "fig.suptitle(\"average speed: {:.3}\".format(states[-1, 0] / ts[-1]))\n",
    "axs[0, 0].plot(ts, states[:, 0], label=\"x\")\n",
    "axs[0, 0].set_title(\"x\")\n",
    "axs[1, 0].plot(ts, states[:, 1], label=\"dx\")\n",
    "axs[1, 0].set_title(\"dx\")\n",
    "axs[0, 1].plot(ts, states[:, 2] + states[:, 0], label=\"xi\")\n",
    "axs[1, 0].set_title(\"xi\")\n",
    "axs[1, 1].plot(ts, states[:, 3], label=\"dxi\")\n",
    "axs[1, 1].set_title(\"dxi\")\n",
    "t_shift = 3\n",
    "axs[0, 0].set_xlim(t_shift, t_shift + 1)\n",
    "\n",
    "\n",
    "plt.figure()\n",
    "plt.plot(ts, actions, label=\"F\")\n",
    "plt.xlim(t_shift, t_shift + 1)\n",
    "plt.legend()\n",
    "plt.show()\n",
    "\n"
   ],
   "outputs": [
    {
     "output_type": "error",
     "ename": "NameError",
     "evalue": "name 'np' is not defined",
     "traceback": [
      "\u001b[0;31m---------------------------------------------------------------------------\u001b[0m",
      "\u001b[0;31mNameError\u001b[0m                                 Traceback (most recent call last)",
      "\u001b[0;32m<ipython-input-1-2126ac76d5c8>\u001b[0m in \u001b[0;36m<module>\u001b[0;34m\u001b[0m\n\u001b[0;32m----> 1\u001b[0;31m \u001b[0mstates\u001b[0m \u001b[0;34m=\u001b[0m \u001b[0mnp\u001b[0m\u001b[0;34m.\u001b[0m\u001b[0marray\u001b[0m\u001b[0;34m(\u001b[0m\u001b[0mstates\u001b[0m\u001b[0;34m)\u001b[0m\u001b[0;34m\u001b[0m\u001b[0;34m\u001b[0m\u001b[0m\n\u001b[0m\u001b[1;32m      2\u001b[0m \u001b[0;34m\u001b[0m\u001b[0m\n\u001b[1;32m      3\u001b[0m \u001b[0mfig\u001b[0m\u001b[0;34m,\u001b[0m \u001b[0maxs\u001b[0m \u001b[0;34m=\u001b[0m \u001b[0mplt\u001b[0m\u001b[0;34m.\u001b[0m\u001b[0msubplots\u001b[0m\u001b[0;34m(\u001b[0m\u001b[0;36m2\u001b[0m\u001b[0;34m,\u001b[0m \u001b[0;36m2\u001b[0m\u001b[0;34m,\u001b[0m \u001b[0msharex\u001b[0m\u001b[0;34m=\u001b[0m\u001b[0;32mTrue\u001b[0m\u001b[0;34m)\u001b[0m  \u001b[0;31m# , sharex=True, sharey=True)\u001b[0m\u001b[0;34m\u001b[0m\u001b[0;34m\u001b[0m\u001b[0m\n\u001b[1;32m      4\u001b[0m \u001b[0mfig\u001b[0m\u001b[0;34m.\u001b[0m\u001b[0msuptitle\u001b[0m\u001b[0;34m(\u001b[0m\u001b[0;34m\"average speed: {:.3}\"\u001b[0m\u001b[0;34m.\u001b[0m\u001b[0mformat\u001b[0m\u001b[0;34m(\u001b[0m\u001b[0mstates\u001b[0m\u001b[0;34m[\u001b[0m\u001b[0;34m-\u001b[0m\u001b[0;36m1\u001b[0m\u001b[0;34m,\u001b[0m \u001b[0;36m0\u001b[0m\u001b[0;34m]\u001b[0m \u001b[0;34m/\u001b[0m \u001b[0mts\u001b[0m\u001b[0;34m[\u001b[0m\u001b[0;34m-\u001b[0m\u001b[0;36m1\u001b[0m\u001b[0;34m]\u001b[0m\u001b[0;34m)\u001b[0m\u001b[0;34m)\u001b[0m\u001b[0;34m\u001b[0m\u001b[0;34m\u001b[0m\u001b[0m\n\u001b[1;32m      5\u001b[0m \u001b[0maxs\u001b[0m\u001b[0;34m[\u001b[0m\u001b[0;36m0\u001b[0m\u001b[0;34m,\u001b[0m \u001b[0;36m0\u001b[0m\u001b[0;34m]\u001b[0m\u001b[0;34m.\u001b[0m\u001b[0mplot\u001b[0m\u001b[0;34m(\u001b[0m\u001b[0mts\u001b[0m\u001b[0;34m,\u001b[0m \u001b[0mstates\u001b[0m\u001b[0;34m[\u001b[0m\u001b[0;34m:\u001b[0m\u001b[0;34m,\u001b[0m \u001b[0;36m0\u001b[0m\u001b[0;34m]\u001b[0m\u001b[0;34m,\u001b[0m \u001b[0mlabel\u001b[0m\u001b[0;34m=\u001b[0m\u001b[0;34m\"x\"\u001b[0m\u001b[0;34m)\u001b[0m\u001b[0;34m\u001b[0m\u001b[0;34m\u001b[0m\u001b[0m\n",
      "\u001b[0;31mNameError\u001b[0m: name 'np' is not defined"
     ]
    }
   ],
   "metadata": {}
  },
  {
   "cell_type": "code",
   "execution_count": null,
   "source": [],
   "outputs": [],
   "metadata": {}
  }
 ],
 "metadata": {
  "orig_nbformat": 4,
  "language_info": {
   "name": "python",
   "version": "3.8.10",
   "mimetype": "text/x-python",
   "codemirror_mode": {
    "name": "ipython",
    "version": 3
   },
   "pygments_lexer": "ipython3",
   "nbconvert_exporter": "python",
   "file_extension": ".py"
  },
  "kernelspec": {
   "name": "python3",
   "display_name": "Python 3.8.10 64-bit"
  },
  "interpreter": {
   "hash": "916dbcbb3f70747c44a77c7bcd40155683ae19c65e1c03b4aa3499c5328201f1"
  }
 },
 "nbformat": 4,
 "nbformat_minor": 2
}